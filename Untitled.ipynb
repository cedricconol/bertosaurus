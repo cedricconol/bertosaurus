{
 "cells": [
  {
   "cell_type": "code",
   "execution_count": 1,
   "metadata": {},
   "outputs": [],
   "source": [
    "from bertosaurus import Bertosaurus"
   ]
  },
  {
   "cell_type": "code",
   "execution_count": 3,
   "metadata": {},
   "outputs": [
    {
     "name": "stdout",
     "output_type": "stream",
     "text": [
      "Loading en_trf_bertbaseuncased_lg...\n",
      "Done!\n",
      "Loading en_core_web_sm...\n",
      "Done!\n"
     ]
    }
   ],
   "source": [
    "thesaurus = Bertosaurus()"
   ]
  },
  {
   "cell_type": "code",
   "execution_count": 3,
   "metadata": {},
   "outputs": [],
   "source": [
    "sentence = 'I want to change the world.'\n",
    "word = 'change'"
   ]
  },
  {
   "cell_type": "code",
   "execution_count": 6,
   "metadata": {},
   "outputs": [
    {
     "data": {
      "text/plain": [
       "[('alter', 0.95599),\n",
       " ('shift', 0.94458),\n",
       " ('modify', 0.92202),\n",
       " ('convert', 0.91599),\n",
       " ('switch', 0.90705),\n",
       " ('transfer', 0.90695),\n",
       " ('vary', 0.90642),\n",
       " ('deepen', 0.8948),\n",
       " ('exchange', 0.88716),\n",
       " ('interchange', 0.87401),\n",
       " ('commute', 0.85808)]"
      ]
     },
     "execution_count": 6,
     "metadata": {},
     "output_type": "execute_result"
    }
   ],
   "source": [
    "thesaurus.ranked_synonyms(sentence, word)"
   ]
  },
  {
   "cell_type": "code",
   "execution_count": null,
   "metadata": {},
   "outputs": [],
   "source": []
  }
 ],
 "metadata": {
  "kernelspec": {
   "display_name": "Python 3",
   "language": "python",
   "name": "python3"
  },
  "language_info": {
   "codemirror_mode": {
    "name": "ipython",
    "version": 3
   },
   "file_extension": ".py",
   "mimetype": "text/x-python",
   "name": "python",
   "nbconvert_exporter": "python",
   "pygments_lexer": "ipython3",
   "version": "3.7.6"
  }
 },
 "nbformat": 4,
 "nbformat_minor": 4
}
